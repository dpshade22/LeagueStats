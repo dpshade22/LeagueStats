{
 "cells": [
  {
   "cell_type": "code",
   "execution_count": 1,
   "metadata": {},
   "outputs": [],
   "source": [
    "import requests\n",
    "import pandas as pd"
   ]
  },
  {
   "cell_type": "markdown",
   "metadata": {},
   "source": [
    "# Global Request Functions"
   ]
  },
  {
   "cell_type": "code",
   "execution_count": 2,
   "metadata": {},
   "outputs": [],
   "source": [
    "header = {\"X-Riot-Token\": \"RGAPI-9c25c780-777b-400d-961d-bdfdda5016d7\"}\n",
    "\n",
    "\n",
    "def getSummoner(summoner):\n",
    "    summoner = requests.get(\n",
    "        f\"https://na1.api.riotgames.com/lol/summoner/v4/summoners/by-name/{summoner}\",\n",
    "        headers=header,\n",
    "    )\n",
    "    return summoner.json()\n",
    "\n",
    "\n",
    "def getMatchIDs(puuid):\n",
    "    matchIDs = requests.get(\n",
    "        f\"https://americas.api.riotgames.com/lol/match/v5/matches/by-puuid/{puuid}/ids?start=0&count=100\",\n",
    "        headers=header,\n",
    "    )\n",
    "    return matchIDs.json()\n",
    "\n",
    "\n",
    "def getMatch(matchID):\n",
    "    matches = requests.get(\n",
    "        f\"https://americas.api.riotgames.com/lol/match/v5/matches/{matchID}\",\n",
    "        headers=header,\n",
    "    )\n",
    "    return matches.json()"
   ]
  },
  {
   "cell_type": "code",
   "execution_count": 3,
   "metadata": {},
   "outputs": [],
   "source": [
    "champions = {}"
   ]
  },
  {
   "cell_type": "code",
   "execution_count": 4,
   "metadata": {},
   "outputs": [],
   "source": [
    "\n",
    "class Summoner:\n",
    "    def __init__(self, summonerName):\n",
    "        self.name = summonerName\n",
    "        self.puuid = getSummoner(summonerName)[\"puuid\"]\n",
    "        self.matchIDs = getMatchIDs(self.puuid)\n",
    "        self.partnerName = \"\"\n",
    "        self.partnerPuuid = \"\"\n",
    "        self.df = pd.DataFrame(columns=[\"MatchID\", \"ChampionID\",\n",
    "                           \"PartnerChampionID\", \"Win/Lost\"])\n",
    "\n",
    "    def initPartner(self, partnerName):\n",
    "        r = getSummoner(partnerName)\n",
    "        self.partnerPuuid = r[\"puuid\"]\n",
    "        self.partnerName = r[\"name\"]\n",
    "\n",
    "        for i, matchID in enumerate(self.matchIDs):\n",
    "            matchJSON = getMatch(matchID)\n",
    "            try:\n",
    "                participants = matchJSON[\"info\"][\"participants\"]\n",
    "            except:\n",
    "                break\n",
    "\n",
    "            if self.partnerPuuid in matchJSON[\"metadata\"][\"participants\"]:\n",
    "                myNdx = 0\n",
    "                partnerNdx = 0\n",
    "\n",
    "                while participants[myNdx][\"summonerName\"] != self.name:\n",
    "                    myNdx += 1\n",
    "                while participants[partnerNdx][\"summonerName\"] != self.partnerName:\n",
    "                    partnerNdx += 1\n",
    "\n",
    "                me = participants[myNdx]\n",
    "                partner = participants[partnerNdx]\n",
    "\n",
    "                myChampion = me[\"championName\"]\n",
    "                partnersChampion = partner[\"championName\"]\n",
    "\n",
    "                if champions.get(myChampion) == None:\n",
    "                    champions[myChampion] = me[\"championId\"]\n",
    "                if champions.get(myChampion) == None:\n",
    "                    champions[myChampion] = partner[\"championId\"]\n",
    "\n",
    "                if me[\"win\"]:\n",
    "                    win = 1\n",
    "                else:\n",
    "                    win = 0\n",
    "\n",
    "                newMatch = pd.Series(\n",
    "                    [\n",
    "                        matchID, myChampion, partnersChampion, win\n",
    "                    ],\n",
    "                    index=[\"MatchID\", \"ChampionID\",\n",
    "                           \"PartnerChampionID\", \"Win/Lost\"],\n",
    "                )\n",
    "\n",
    "                print(f\"Adding: {[matchID, myChampion, partnersChampion, win]} to DF\")\n",
    "                self.df.loc[i] = newMatch"
   ]
  },
  {
   "cell_type": "code",
   "execution_count": 5,
   "metadata": {},
   "outputs": [
    {
     "name": "stdout",
     "output_type": "stream",
     "text": [
      "Adding: ['NA1_4288037065', 'Swain', 'Twitch', 1] to DF\n",
      "Adding: ['NA1_4288044461', 'Velkoz', 'Azir', 0] to DF\n",
      "Adding: ['NA1_4288051179', 'Rakan', 'Jinx', 1] to DF\n",
      "Adding: ['NA1_4287985938', 'Xerath', 'Vayne', 0] to DF\n",
      "Adding: ['NA1_4287970218', 'Thresh', 'Jhin', 0] to DF\n",
      "Adding: ['NA1_4287932752', 'Morgana', 'Caitlyn', 0] to DF\n",
      "Adding: ['NA1_4287868896', 'Urgot', 'Corki', 1] to DF\n",
      "Adding: ['NA1_4283956369', 'Jhin', 'Vayne', 0] to DF\n",
      "Adding: ['NA1_4283916232', 'Viego', 'Vayne', 1] to DF\n",
      "Adding: ['NA1_4283931327', 'Pyke', 'Kaisa', 1] to DF\n",
      "Adding: ['NA1_4283835083', 'Senna', 'Jhin', 1] to DF\n",
      "Adding: ['NA1_4283791260', 'Lux', 'Vayne', 1] to DF\n",
      "Adding: ['NA1_4283674089', 'Bard', 'Ezreal', 1] to DF\n",
      "Adding: ['NA1_4283557629', 'Velkoz', 'Caitlyn', 1] to DF\n",
      "Adding: ['NA1_4283519508', 'Nautilus', 'Jhin', 0] to DF\n",
      "Adding: ['NA1_4281951559', 'Vladimir', 'Veigar', 0] to DF\n",
      "Adding: ['NA1_4281889703', 'Draven', 'Akali', 0] to DF\n",
      "Adding: ['NA1_4281916383', 'MasterYi', 'Tristana', 1] to DF\n",
      "Adding: ['NA1_4281932927', 'Rengar', 'Jinx', 1] to DF\n",
      "Adding: ['NA1_4281859215', 'Senna', 'Caitlyn', 1] to DF\n",
      "Adding: ['NA1_4281825121', 'Fiora', 'Viego', 0] to DF\n",
      "Adding: ['NA1_4280753199', 'Kled', 'Leblanc', 0] to DF\n",
      "Adding: ['NA1_4281738641', 'Ekko', 'Vayne', 0] to DF\n",
      "Adding: ['NA1_4276910988', 'Fizz', 'Lucian', 1] to DF\n",
      "Adding: ['NA1_4276838225', 'Zeri', 'Viego', 0] to DF\n",
      "Adding: ['NA1_4276874787', 'Jinx', 'JarvanIV', 0] to DF\n",
      "Adding: ['NA1_4276808221', 'Vayne', 'LeeSin', 0] to DF\n",
      "Adding: ['NA1_4276763288', 'Xerath', 'Jhin', 1] to DF\n",
      "Adding: ['NA1_4276754334', 'Pyke', 'Vayne', 1] to DF\n",
      "Adding: ['NA1_4274241257', 'Yasuo', 'Rengar', 1] to DF\n",
      "Adding: ['NA1_4274241162', 'Draven', 'Thresh', 1] to DF\n",
      "Adding: ['NA1_4274251161', 'Renata', 'Caitlyn', 1] to DF\n",
      "Adding: ['NA1_4274251004', 'Nautilus', 'Vayne', 1] to DF\n",
      "Adding: ['NA1_4274686165', 'Pyke', 'Vayne', 1] to DF\n",
      "Adding: ['NA1_4273502010', 'Zilean', 'Jhin', 1] to DF\n",
      "Adding: ['NA1_4273455236', 'Yuumi', 'Vayne', 1] to DF\n",
      "Adding: ['NA1_4273440880', 'Shen', 'Jinx', 1] to DF\n",
      "Adding: ['NA1_4273382961', 'Morgana', 'Jhin', 1] to DF\n",
      "Adding: ['NA1_4266520134', 'Rell', 'Vayne', 1] to DF\n",
      "Adding: ['NA1_4266433805', 'Pyke', 'Ezreal', 1] to DF\n",
      "Adding: ['NA1_4264677695', 'Azir', 'Senna', 1] to DF\n",
      "Adding: ['NA1_4264623416', 'Xerath', 'Vayne', 0] to DF\n",
      "Adding: ['NA1_4264566485', 'Morgana', 'Jinx', 0] to DF\n",
      "Adding: ['NA1_4264559115', 'Thresh', 'Ashe', 0] to DF\n",
      "Adding: ['NA1_4263449013', 'Pyke', 'Senna', 1] to DF\n",
      "Adding: ['NA1_4263456435', 'DrMundo', 'Taliyah', 0] to DF\n",
      "Adding: ['NA1_4263474152', 'Fiora', 'Ashe', 0] to DF\n",
      "Adding: ['NA1_4263388601', 'Rell', 'Vayne', 1] to DF\n",
      "Adding: ['NA1_4263423365', 'Thresh', 'Azir', 1] to DF\n",
      "Adding: ['NA1_4263347444', 'Thresh', 'Jinx', 0] to DF\n",
      "Adding: ['NA1_4261856650', 'LeeSin', 'Leblanc', 0] to DF\n",
      "Adding: ['NA1_4259508931', 'Renata', 'Jinx', 0] to DF\n",
      "Adding: ['NA1_4259466115', 'Nautilus', 'Jhin', 1] to DF\n",
      "Adding: ['NA1_4259451567', 'Pyke', 'Vayne', 0] to DF\n",
      "Adding: ['NA1_4259425163', 'Thresh', 'Jinx', 1] to DF\n",
      "Adding: ['NA1_4259367425', 'Senna', 'Vayne', 0] to DF\n",
      "Adding: ['NA1_4258632259', 'Renata', 'Vayne', 1] to DF\n",
      "Adding: ['NA1_4258555458', 'Braum', 'Vayne', 1] to DF\n",
      "Adding: ['NA1_4258509658', 'Morgana', 'Caitlyn', 1] to DF\n",
      "Adding: ['NA1_4258484152', 'Pyke', 'Jinx', 1] to DF\n",
      "Adding: ['NA1_4257821199', 'Neeko', 'Jayce', 0] to DF\n",
      "Adding: ['NA1_4257788043', 'Vex', 'Viktor', 1] to DF\n",
      "Adding: ['NA1_4257776768', 'Morgana', 'Orianna', 0] to DF\n",
      "Adding: ['NA1_4257753492', 'Pyke', 'Vayne', 1] to DF\n",
      "Adding: ['NA1_4257746987', 'Blitzcrank', 'Aphelios', 0] to DF\n",
      "Adding: ['NA1_4257722713', 'Senna', 'Jhin', 0] to DF\n",
      "Adding: ['NA1_4257659468', 'Pyke', 'Jinx', 1] to DF\n",
      "Adding: ['NA1_4257636988', 'Renata', 'Caitlyn', 0] to DF\n",
      "Adding: ['NA1_4255846307', 'MasterYi', 'Graves', 1] to DF\n",
      "Adding: ['NA1_4255833784', 'Lucian', 'Nidalee', 0] to DF\n",
      "Adding: ['NA1_4255819924', 'Renata', 'Vayne', 1] to DF\n",
      "Adding: ['NA1_4255715612', 'Thresh', 'Caitlyn', 1] to DF\n",
      "Adding: ['NA1_4255700009', 'Senna', 'Jinx', 0] to DF\n",
      "Adding: ['NA1_4253825730', 'Senna', 'Azir', 1] to DF\n",
      "Adding: ['NA1_4253748925', 'Renata', 'Jinx', 1] to DF\n",
      "Adding: ['NA1_4253762080', 'Draven', 'Lucian', 1] to DF\n",
      "Adding: ['NA1_4243941090', 'Senna', 'Jinx', 0] to DF\n",
      "Adding: ['NA1_4243936315', 'Renata', 'Jinx', 1] to DF\n",
      "Adding: ['NA1_4242593473', 'Lillia', 'Xayah', 1] to DF\n",
      "Adding: ['NA1_4242610325', 'Volibear', 'Azir', 0] to DF\n",
      "Adding: ['NA1_4242567210', 'Senna', 'Kaisa', 0] to DF\n",
      "Adding: ['NA1_4242563658', 'Zeri', 'Jhin', 1] to DF\n",
      "Adding: ['NA1_4242550817', 'AurelionSol', 'Ashe', 0] to DF\n",
      "Adding: ['NA1_4242494076', 'Pyke', 'Jinx', 1] to DF\n",
      "Adding: ['NA1_4242446796', 'Jayce', 'Caitlyn', 1] to DF\n",
      "Adding: ['NA1_4240888169', 'Senna', 'Jinx', 1] to DF\n",
      "Adding: ['NA1_4240852972', 'LeeSin', 'Leblanc', 0] to DF\n",
      "Adding: ['NA1_4240707501', 'Lillia', 'Ryze', 0] to DF\n"
     ]
    }
   ],
   "source": [
    "mainSummoner = Summoner(\"41619\")\n",
    "mainSummoner.initPartner(\"yongbin\")"
   ]
  },
  {
   "cell_type": "code",
   "execution_count": 6,
   "metadata": {},
   "outputs": [],
   "source": [
    "mainSummoner.df.to_csv('41binMatches.csv')\n"
   ]
  },
  {
   "cell_type": "code",
   "execution_count": 7,
   "metadata": {},
   "outputs": [
    {
     "ename": "KeyError",
     "evalue": "67",
     "output_type": "error",
     "traceback": [
      "\u001b[1;31m---------------------------------------------------------------------------\u001b[0m",
      "\u001b[1;31mKeyError\u001b[0m                                  Traceback (most recent call last)",
      "\u001b[1;32mc:\\Users\\dpsha\\Developer\\leagueStats\\leagueStats\\leagueData.ipynb Cell 8'\u001b[0m in \u001b[0;36m<module>\u001b[1;34m\u001b[0m\n\u001b[1;32m----> <a href='vscode-notebook-cell:/c%3A/Users/dpsha/Developer/leagueStats/leagueStats/leagueData.ipynb#ch0000007?line=0'>1</a>\u001b[0m \u001b[39mprint\u001b[39m(champions[\u001b[39m67\u001b[39;49m])\n",
      "\u001b[1;31mKeyError\u001b[0m: 67"
     ]
    }
   ],
   "source": [
    "print(champions[67])"
   ]
  }
 ],
 "metadata": {
  "interpreter": {
   "hash": "aee8b7b246df8f9039afb4144a1f6fd8d2ca17a180786b69acc140d282b71a49"
  },
  "kernelspec": {
   "display_name": "Python 3.10.0 64-bit",
   "language": "python",
   "name": "python3"
  },
  "language_info": {
   "codemirror_mode": {
    "name": "ipython",
    "version": 3
   },
   "file_extension": ".py",
   "mimetype": "text/x-python",
   "name": "python",
   "nbconvert_exporter": "python",
   "pygments_lexer": "ipython3",
   "version": "3.10.2"
  },
  "orig_nbformat": 4
 },
 "nbformat": 4,
 "nbformat_minor": 2
}
