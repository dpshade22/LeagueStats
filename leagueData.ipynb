{
 "cells": [
  {
   "cell_type": "code",
   "execution_count": 62,
   "metadata": {},
   "outputs": [],
   "source": [
    "import requests\n",
    "import pandas as pd"
   ]
  },
  {
   "cell_type": "markdown",
   "metadata": {},
   "source": [
    "# Global Request Functions"
   ]
  },
  {
   "cell_type": "code",
   "execution_count": 63,
   "metadata": {},
   "outputs": [],
   "source": [
    "header = {\"X-Riot-Token\": \"RGAPI-7e521a6d-79b3-4b7c-bfad-3c6adcd287c2\"}\n",
    "\n",
    "\n",
    "def getSummoner(summoner):\n",
    "    summoner = requests.get(\n",
    "        f\"https://na1.api.riotgames.com/lol/summoner/v4/summoners/by-name/{summoner}\",\n",
    "        headers=header,\n",
    "    )\n",
    "    return summoner.json()\n",
    "\n",
    "\n",
    "def getMatchIDs(puuid):\n",
    "    matchIDs = requests.get(\n",
    "        f\"https://americas.api.riotgames.com/lol/match/v5/matches/by-puuid/{puuid}/ids?start=0&count=100\",\n",
    "        headers=header,\n",
    "    )\n",
    "    return matchIDs.json()\n",
    "\n",
    "\n",
    "def getMatch(matchID):\n",
    "    matches = requests.get(\n",
    "        f\"https://americas.api.riotgames.com/lol/match/v5/matches/{matchID}\",\n",
    "        headers=header,\n",
    "    )\n",
    "    return matches.json()"
   ]
  },
  {
   "cell_type": "code",
   "execution_count": 64,
   "metadata": {},
   "outputs": [],
   "source": [
    "champions = {}"
   ]
  },
  {
   "cell_type": "code",
   "execution_count": 65,
   "metadata": {},
   "outputs": [],
   "source": [
    "\n",
    "class Summoner:\n",
    "    def __init__(self, summonerName):\n",
    "        self.name = summonerName\n",
    "        self.puuid = getSummoner(summonerName)[\"puuid\"]\n",
    "        self.matchIDs = getMatchIDs(self.puuid)\n",
    "        self.partnerName = \"\"\n",
    "        self.partnerPuuid = \"\"\n",
    "        self.df = pd.DataFrame(columns=[\"MatchID\", \"ChampionID\", \"VisionScore\", \"KDA\",\n",
    "                           \"PartnerChampionID\", \"PartnerVisionScore\", \"PartnerKDA\", \"Win/Lost\"])\n",
    "\n",
    "    def initPartner(self, partnerName):\n",
    "        r = getSummoner(partnerName)\n",
    "        self.partnerPuuid = r[\"puuid\"]\n",
    "        self.partnerName = r[\"name\"]\n",
    "\n",
    "        for i, matchID in enumerate(self.matchIDs):\n",
    "            matchJSON = getMatch(matchID)\n",
    "\n",
    "\n",
    "            try:\n",
    "                if matchJSON[\"info\"][\"gameMode\"] == \"ARAM\":\n",
    "                    continue\n",
    " \n",
    "                participants = matchJSON[\"info\"][\"participants\"]\n",
    "            except:\n",
    "                break\n",
    "\n",
    "            if self.partnerPuuid in matchJSON[\"metadata\"][\"participants\"]:\n",
    "                myNdx = 0\n",
    "                partnerNdx = 0\n",
    "\n",
    "                while participants[myNdx][\"summonerName\"] != self.name:\n",
    "                    myNdx += 1\n",
    "                while participants[partnerNdx][\"summonerName\"] != self.partnerName:\n",
    "                    partnerNdx += 1\n",
    "\n",
    "                me = participants[myNdx]\n",
    "                partner = participants[partnerNdx]\n",
    "\n",
    "                kda = round(participants[myNdx][\"challenges\"][\"kda\"], 2)\n",
    "                partnerKDA = round(participants[partnerNdx][\"challenges\"][\"kda\"],  2)\n",
    "\n",
    "                visionScore = round(participants[myNdx][\"visionScore\"], 2)\n",
    "                partnerVisionScore = round(participants[partnerNdx][\"visionScore\"], 2)\n",
    "\n",
    "                myChampion = me[\"championName\"]\n",
    "                partnersChampion = partner[\"championName\"]\n",
    "\n",
    "                if champions.get(myChampion) == None:\n",
    "                    champions[myChampion] = me[\"championId\"]\n",
    "                if champions.get(myChampion) == None:\n",
    "                    champions[myChampion] = partner[\"championId\"]\n",
    "\n",
    "                if me[\"win\"]:\n",
    "                    win = 1\n",
    "                else:\n",
    "                    win = 0\n",
    "\n",
    "\n",
    "                newMatch = pd.Series(\n",
    "                    [\n",
    "                        matchID, myChampion, visionScore ,kda, partnersChampion, partnerVisionScore, partnerKDA, win\n",
    "                    ],\n",
    "                    index=[\"MatchID\", \"ChampionID\", \"VisionScore\", \"KDA\",\n",
    "                           \"PartnerChampionID\", \"PartnerVisionScore\", \"PartnerKDA\", \"Win/Lost\"],\n",
    "                )\n",
    "\n",
    "                print(f\"Adding: {[matchID, myChampion, visionScore, kda, partnersChampion, partnerVisionScore, partnerKDA, win]} to DF\")\n",
    "                self.df.loc[i] = newMatch"
   ]
  },
  {
   "cell_type": "code",
   "execution_count": 66,
   "metadata": {},
   "outputs": [],
   "source": [
    "mainSummoner = Summoner(\"41619\")\n",
    "mainSummoner.initPartner(\"yongbin\")"
   ]
  },
  {
   "cell_type": "code",
   "execution_count": 67,
   "metadata": {},
   "outputs": [],
   "source": [
    "mainSummoner.df.to_csv('41binMatches.csv')\n"
   ]
  },
  {
   "cell_type": "code",
   "execution_count": 68,
   "metadata": {},
   "outputs": [
    {
     "name": "stdout",
     "output_type": "stream",
     "text": [
      "{'Rakan': 497, 'Pyke': 555, 'Alistar': 12, 'Renata': 888, 'Xerath': 101, 'Thresh': 412, 'Morgana': 25, 'Senna': 235, 'Lux': 99, 'Bard': 432, 'Velkoz': 161, 'Nautilus': 111, 'Fiora': 114, 'Kled': 240, 'Ekko': 245, 'Zeri': 221, 'Jinx': 222, 'Vayne': 67, 'Yasuo': 157, 'Draven': 119, 'Zilean': 26, 'Yuumi': 350, 'Shen': 98, 'Rell': 526, 'LeeSin': 64, 'Braum': 201, 'Blitzcrank': 53}\n"
     ]
    }
   ],
   "source": [
    "print(champions)"
   ]
  }
 ],
 "metadata": {
  "interpreter": {
   "hash": "aee8b7b246df8f9039afb4144a1f6fd8d2ca17a180786b69acc140d282b71a49"
  },
  "kernelspec": {
   "display_name": "Python 3.10.0 64-bit",
   "language": "python",
   "name": "python3"
  },
  "language_info": {
   "codemirror_mode": {
    "name": "ipython",
    "version": 3
   },
   "file_extension": ".py",
   "mimetype": "text/x-python",
   "name": "python",
   "nbconvert_exporter": "python",
   "pygments_lexer": "ipython3",
   "version": "3.10.0"
  },
  "orig_nbformat": 4
 },
 "nbformat": 4,
 "nbformat_minor": 2
}
