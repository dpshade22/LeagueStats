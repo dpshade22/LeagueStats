{
 "cells": [
  {
   "cell_type": "code",
   "execution_count": 43,
   "metadata": {},
   "outputs": [],
   "source": [
    "import requests\n",
    "import pandas as pd"
   ]
  },
  {
   "cell_type": "markdown",
   "metadata": {},
   "source": [
    "# Global Request Functions"
   ]
  },
  {
   "cell_type": "code",
   "execution_count": 44,
   "metadata": {},
   "outputs": [],
   "source": [
    "header = {\"X-Riot-Token\": \"RGAPI-7e521a6d-79b3-4b7c-bfad-3c6adcd287c2\"}\n",
    "\n",
    "\n",
    "def getSummoner(summoner):\n",
    "    summoner = requests.get(\n",
    "        f\"https://na1.api.riotgames.com/lol/summoner/v4/summoners/by-name/{summoner}\",\n",
    "        headers=header,\n",
    "    )\n",
    "    return summoner.json()\n",
    "\n",
    "\n",
    "def getMatchIDs(puuid):\n",
    "    matchIDs = requests.get(\n",
    "        f\"https://americas.api.riotgames.com/lol/match/v5/matches/by-puuid/{puuid}/ids?start=0&count=100\",\n",
    "        headers=header,\n",
    "    )\n",
    "    return matchIDs.json()\n",
    "\n",
    "\n",
    "def getMatch(matchID):\n",
    "    matches = requests.get(\n",
    "        f\"https://americas.api.riotgames.com/lol/match/v5/matches/{matchID}\",\n",
    "        headers=header,\n",
    "    )\n",
    "    return matches.json()"
   ]
  },
  {
   "cell_type": "code",
   "execution_count": 45,
   "metadata": {},
   "outputs": [],
   "source": [
    "champions = {}"
   ]
  },
  {
   "cell_type": "code",
   "execution_count": 46,
   "metadata": {},
   "outputs": [],
   "source": [
    "\n",
    "class Summoner:\n",
    "    def __init__(self, summonerName):\n",
    "        self.name = summonerName\n",
    "        self.puuid = getSummoner(summonerName)[\"puuid\"]\n",
    "        self.matchIDs = getMatchIDs(self.puuid)\n",
    "        self.partnerName = \"\"\n",
    "        self.partnerPuuid = \"\"\n",
    "        self.df = pd.DataFrame(columns=[\"MatchID\", \"ChampionID\", \"VisionScore\", \"KDA\",\n",
    "                           \"PartnerChampionID\", \"PartnerVisionScore\", \"PartnerKDA\", \"Win/Lost\"])\n",
    "\n",
    "    def initPartner(self, partnerName):\n",
    "        r = getSummoner(partnerName)\n",
    "        self.partnerPuuid = r[\"puuid\"]\n",
    "        self.partnerName = r[\"name\"]\n",
    "\n",
    "        for i, matchID in enumerate(self.matchIDs):\n",
    "            matchJSON = getMatch(matchID)\n",
    "\n",
    "\n",
    "            try:\n",
    "                if matchJSON[\"info\"][\"gameMode\"] == \"ARAM\":\n",
    "                    continue\n",
    " \n",
    "                participants = matchJSON[\"info\"][\"participants\"]\n",
    "            except:\n",
    "                break\n",
    "\n",
    "            if self.partnerPuuid in matchJSON[\"metadata\"][\"participants\"]:\n",
    "                myNdx = 0\n",
    "                partnerNdx = 0\n",
    "\n",
    "                while participants[myNdx][\"summonerName\"] != self.name:\n",
    "                    myNdx += 1\n",
    "                while participants[partnerNdx][\"summonerName\"] != self.partnerName:\n",
    "                    partnerNdx += 1\n",
    "\n",
    "                me = participants[myNdx]\n",
    "                partner = participants[partnerNdx]\n",
    "\n",
    "                kda = round(participants[myNdx][\"challenges\"][\"kda\"], 2)\n",
    "                partnerKDA = round(participants[partnerNdx][\"challenges\"][\"kda\"],  2)\n",
    "\n",
    "                visionScore = round(participants[myNdx][\"visionScore\"], 2)\n",
    "                partnerVisionScore = round(participants[partnerNdx][\"visionScore\"], 2)\n",
    "\n",
    "                myChampion = me[\"championName\"]\n",
    "                partnersChampion = partner[\"championName\"]\n",
    "\n",
    "                if champions.get(myChampion) == None:\n",
    "                    champions[myChampion] = me[\"championId\"]\n",
    "                if champions.get(myChampion) == None:\n",
    "                    champions[myChampion] = partner[\"championId\"]\n",
    "\n",
    "                if me[\"win\"]:\n",
    "                    win = 1\n",
    "                else:\n",
    "                    win = 0\n",
    "\n",
    "\n",
    "                newMatch = pd.Series(\n",
    "                    [\n",
    "                        matchID, myChampion, visionScore ,kda, partnersChampion, partnerVisionScore, partnerKDA, win\n",
    "                    ],\n",
    "                    index=[\"MatchID\", \"ChampionID\", \"VisionScore\", \"KDA\",\n",
    "                           \"PartnerChampionID\", \"PartnerVisionScore\", \"PartnerKDA\", \"Win/Lost\"],\n",
    "                )\n",
    "\n",
    "                print(f\"Adding: {[matchID, myChampion, visionScore, kda, partnersChampion, partnerVisionScore, partnerKDA, win]} to DF\")\n",
    "                self.df.loc[i] = newMatch"
   ]
  },
  {
   "cell_type": "code",
   "execution_count": 47,
   "metadata": {},
   "outputs": [
    {
     "name": "stdout",
     "output_type": "stream",
     "text": [
      "Adding: ['NA1_4288895517', 'Rakan', 84, 5, 'Vayne', 13, 4.57, 1] to DF\n",
      "Adding: ['NA1_4288901290', 'Pyke', 52, 1.6, 'Jinx', 8, 3, 0] to DF\n",
      "Adding: ['NA1_4288837395', 'Alistar', 44, 3.5, 'Jinx', 8, 15, 1] to DF\n",
      "Adding: ['NA1_4288841120', 'Renata', 64, 1.67, 'Vayne', 15, 2.2, 0] to DF\n",
      "Adding: ['NA1_4288748320', 'Pyke', 13, 3.33, 'Jhin', 7, 10, 1] to DF\n",
      "Adding: ['NA1_4288791665', 'Rakan', 31, 1.6, 'Zeri', 6, 0.29, 0] to DF\n",
      "Adding: ['NA1_4288051179', 'Rakan', 61, 13.5, 'Jinx', 32, 25, 1] to DF\n",
      "Adding: ['NA1_4287985938', 'Xerath', 64, 2.29, 'Vayne', 12, 1.78, 0] to DF\n",
      "Adding: ['NA1_4287970218', 'Thresh', 82, 2.12, 'Jhin', 31, 2.44, 0] to DF\n",
      "Adding: ['NA1_4287932752', 'Morgana', 78, 2, 'Caitlyn', 16, 2.33, 0] to DF\n",
      "Adding: ['NA1_4283931327', 'Pyke', 82, 3.12, 'Kaisa', 28, 5.8, 1] to DF\n",
      "Adding: ['NA1_4283835083', 'Senna', 46, 5.8, 'Jhin', 5, 4.25, 1] to DF\n",
      "Adding: ['NA1_4283791260', 'Lux', 63, 4.5, 'Vayne', 18, 20, 1] to DF\n",
      "Adding: ['NA1_4283674089', 'Bard', 79, 6.25, 'Ezreal', 9, 4, 1] to DF\n",
      "Adding: ['NA1_4283557629', 'Velkoz', 59, 5.5, 'Caitlyn', 25, 6, 1] to DF\n",
      "Adding: ['NA1_4283519508', 'Nautilus', 70, 1, 'Jhin', 7, 1.17, 0] to DF\n",
      "Adding: ['NA1_4281859215', 'Senna', 61, 4, 'Caitlyn', 11, 5.33, 1] to DF\n",
      "Adding: ['NA1_4281825121', 'Fiora', 20, 1.67, 'Viego', 16, 1.71, 0] to DF\n",
      "Adding: ['NA1_4280753199', 'Kled', 18, 2, 'Leblanc', 17, 2.67, 0] to DF\n",
      "Adding: ['NA1_4281738641', 'Ekko', 41, 1.9, 'Vayne', 36, 1.6, 0] to DF\n",
      "Adding: ['NA1_4276838225', 'Zeri', 22, 0.67, 'Viego', 17, 4, 0] to DF\n",
      "Adding: ['NA1_4276874787', 'Jinx', 12, 0.25, 'JarvanIV', 5, 0.6, 0] to DF\n",
      "Adding: ['NA1_4276808221', 'Vayne', 39, 4, 'LeeSin', 25, 4.83, 0] to DF\n",
      "Adding: ['NA1_4276763288', 'Xerath', 62, 6.33, 'Jhin', 7, 7, 1] to DF\n",
      "Adding: ['NA1_4276754334', 'Pyke', 173, 3.5, 'Vayne', 25, 7, 1] to DF\n",
      "Adding: ['NA1_4274241257', 'Yasuo', 20, 3.33, 'Rengar', 55, 4.83, 1] to DF\n",
      "Adding: ['NA1_4274241162', 'Draven', 22, 8.67, 'Thresh', 38, 5.5, 1] to DF\n",
      "Adding: ['NA1_4274251161', 'Renata', 31, 13, 'Caitlyn', 7, 9, 1] to DF\n",
      "Adding: ['NA1_4274251004', 'Nautilus', 75, 3.3, 'Vayne', 28, 6, 1] to DF\n",
      "Adding: ['NA1_4274686165', 'Pyke', 77, 2.75, 'Vayne', 16, 4, 1] to DF\n",
      "Adding: ['NA1_4273502010', 'Zilean', 40, 2.86, 'Jhin', 11, 4.2, 1] to DF\n",
      "Adding: ['NA1_4273455236', 'Yuumi', 20, 8, 'Vayne', 11, 4, 1] to DF\n",
      "Adding: ['NA1_4273440880', 'Shen', 11, 18, 'Jinx', 10, 14, 1] to DF\n",
      "Adding: ['NA1_4273382961', 'Morgana', 79, 4.2, 'Jhin', 14, 2.8, 1] to DF\n",
      "Adding: ['NA1_4266520134', 'Rell', 63, 3.75, 'Vayne', 17, 2.56, 1] to DF\n",
      "Adding: ['NA1_4266433805', 'Pyke', 67, 3.57, 'Ezreal', 11, 6.5, 1] to DF\n",
      "Adding: ['NA1_4264623416', 'Xerath', 64, 2.55, 'Vayne', 18, 3.11, 0] to DF\n",
      "Adding: ['NA1_4264566485', 'Morgana', 58, 4.4, 'Jinx', 11, 2.86, 0] to DF\n",
      "Adding: ['NA1_4264559115', 'Thresh', 28, 0.9, 'Ashe', 7, 2.2, 0] to DF\n",
      "Adding: ['NA1_4263388601', 'Rell', 69, 3.38, 'Vayne', 16, 4.29, 1] to DF\n",
      "Adding: ['NA1_4263423365', 'Thresh', 35, 4.5, 'Azir', 18, 7, 1] to DF\n",
      "Adding: ['NA1_4263347444', 'Thresh', 46, 1.86, 'Jinx', 11, 2.75, 0] to DF\n",
      "Adding: ['NA1_4261856650', 'LeeSin', 35, 0.7, 'Leblanc', 25, 5.25, 0] to DF\n",
      "Adding: ['NA1_4259508931', 'Renata', 50, 1, 'Jinx', 11, 0.67, 0] to DF\n",
      "Adding: ['NA1_4259466115', 'Nautilus', 58, 18, 'Jhin', 19, 24, 1] to DF\n",
      "Adding: ['NA1_4259451567', 'Pyke', 57, 0.57, 'Vayne', 15, 1.17, 0] to DF\n",
      "Adding: ['NA1_4259425163', 'Thresh', 25, 4.33, 'Jinx', 8, 13, 1] to DF\n",
      "Adding: ['NA1_4259367425', 'Senna', 73, 1, 'Vayne', 17, 0.43, 0] to DF\n",
      "Adding: ['NA1_4258632259', 'Renata', 64, 2.57, 'Vayne', 13, 5.33, 1] to DF\n",
      "Adding: ['NA1_4258555458', 'Braum', 75, 2.5, 'Vayne', 30, 3.5, 1] to DF\n",
      "Adding: ['NA1_4258509658', 'Morgana', 41, 4.25, 'Caitlyn', 10, 6.5, 1] to DF\n",
      "Adding: ['NA1_4258484152', 'Pyke', 64, 3.5, 'Jinx', 8, 5.4, 1] to DF\n",
      "Adding: ['NA1_4257753492', 'Pyke', 69, 6, 'Vayne', 22, 7.67, 1] to DF\n",
      "Adding: ['NA1_4257746987', 'Blitzcrank', 48, 1.12, 'Aphelios', 10, 1.2, 0] to DF\n",
      "Adding: ['NA1_4257722713', 'Senna', 60, 2.11, 'Jhin', 6, 2.71, 0] to DF\n",
      "Adding: ['NA1_4257659468', 'Pyke', 23, 14, 'Jinx', 10, 17, 1] to DF\n",
      "Adding: ['NA1_4257636988', 'Renata', 17, 1.5, 'Caitlyn', 8, 0.6, 0] to DF\n",
      "Adding: ['NA1_4255819924', 'Renata', 41, 3.6, 'Vayne', 24, 19, 1] to DF\n",
      "Adding: ['NA1_4255715612', 'Thresh', 23, 21, 'Caitlyn', 12, 10, 1] to DF\n",
      "Adding: ['NA1_4255700009', 'Senna', 54, 1.67, 'Jinx', 8, 1.21, 0] to DF\n",
      "Adding: ['NA1_4253825730', 'Senna', 70, 3.71, 'Azir', 20, 10.5, 1] to DF\n",
      "Adding: ['NA1_4253748925', 'Renata', 78, 2.43, 'Jinx', 19, 4.4, 1] to DF\n",
      "Adding: ['NA1_4243941090', 'Senna', 30, 1.43, 'Jinx', 12, 1.8, 0] to DF\n",
      "Adding: ['NA1_4243936315', 'Renata', 46, 1.4, 'Jinx', 15, 2.78, 1] to DF\n",
      "Adding: ['NA1_4242494076', 'Pyke', 68, 3.25, 'Jinx', 6, 5.33, 1] to DF\n"
     ]
    },
    {
     "ename": "KeyError",
     "evalue": "'info'",
     "output_type": "error",
     "traceback": [
      "\u001b[0;31m---------------------------------------------------------------------------\u001b[0m",
      "\u001b[0;31mKeyError\u001b[0m                                  Traceback (most recent call last)",
      "\u001b[0;32m/var/folders/fw/30zxms3d5_z_f6hjw9frq67r0000gn/T/ipykernel_15532/2495386431.py\u001b[0m in \u001b[0;36m<module>\u001b[0;34m\u001b[0m\n\u001b[1;32m      1\u001b[0m \u001b[0mmainSummoner\u001b[0m \u001b[0;34m=\u001b[0m \u001b[0mSummoner\u001b[0m\u001b[0;34m(\u001b[0m\u001b[0;34m\"41619\"\u001b[0m\u001b[0;34m)\u001b[0m\u001b[0;34m\u001b[0m\u001b[0;34m\u001b[0m\u001b[0m\n\u001b[0;32m----> 2\u001b[0;31m \u001b[0mmainSummoner\u001b[0m\u001b[0;34m.\u001b[0m\u001b[0minitPartner\u001b[0m\u001b[0;34m(\u001b[0m\u001b[0;34m\"yongbin\"\u001b[0m\u001b[0;34m)\u001b[0m\u001b[0;34m\u001b[0m\u001b[0;34m\u001b[0m\u001b[0m\n\u001b[0m",
      "\u001b[0;32m/var/folders/fw/30zxms3d5_z_f6hjw9frq67r0000gn/T/ipykernel_15532/1603331635.py\u001b[0m in \u001b[0;36minitPartner\u001b[0;34m(self, partnerName)\u001b[0m\n\u001b[1;32m     17\u001b[0m             \u001b[0mmatchJSON\u001b[0m \u001b[0;34m=\u001b[0m \u001b[0mgetMatch\u001b[0m\u001b[0;34m(\u001b[0m\u001b[0mmatchID\u001b[0m\u001b[0;34m)\u001b[0m\u001b[0;34m\u001b[0m\u001b[0;34m\u001b[0m\u001b[0m\n\u001b[1;32m     18\u001b[0m \u001b[0;34m\u001b[0m\u001b[0m\n\u001b[0;32m---> 19\u001b[0;31m             \u001b[0;32mif\u001b[0m \u001b[0mmatchJSON\u001b[0m\u001b[0;34m[\u001b[0m\u001b[0;34m\"info\"\u001b[0m\u001b[0;34m]\u001b[0m\u001b[0;34m[\u001b[0m\u001b[0;34m\"gameMode\"\u001b[0m\u001b[0;34m]\u001b[0m \u001b[0;34m==\u001b[0m \u001b[0;34m\"ARAM\"\u001b[0m\u001b[0;34m:\u001b[0m\u001b[0;34m\u001b[0m\u001b[0;34m\u001b[0m\u001b[0m\n\u001b[0m\u001b[1;32m     20\u001b[0m                 \u001b[0;32mcontinue\u001b[0m\u001b[0;34m\u001b[0m\u001b[0;34m\u001b[0m\u001b[0m\n\u001b[1;32m     21\u001b[0m \u001b[0;34m\u001b[0m\u001b[0m\n",
      "\u001b[0;31mKeyError\u001b[0m: 'info'"
     ]
    }
   ],
   "source": [
    "mainSummoner = Summoner(\"41619\")\n",
    "mainSummoner.initPartner(\"yongbin\")"
   ]
  },
  {
   "cell_type": "code",
   "execution_count": null,
   "metadata": {},
   "outputs": [],
   "source": [
    "mainSummoner.df.to_csv('41binMatches.csv')\n"
   ]
  },
  {
   "cell_type": "code",
   "execution_count": null,
   "metadata": {},
   "outputs": [],
   "source": [
    "print(champions)"
   ]
  }
 ],
 "metadata": {
  "interpreter": {
   "hash": "aee8b7b246df8f9039afb4144a1f6fd8d2ca17a180786b69acc140d282b71a49"
  },
  "kernelspec": {
   "display_name": "Python 3.10.0 64-bit",
   "language": "python",
   "name": "python3"
  },
  "language_info": {
   "codemirror_mode": {
    "name": "ipython",
    "version": 3
   },
   "file_extension": ".py",
   "mimetype": "text/x-python",
   "name": "python",
   "nbconvert_exporter": "python",
   "pygments_lexer": "ipython3",
   "version": "3.10.0"
  },
  "orig_nbformat": 4
 },
 "nbformat": 4,
 "nbformat_minor": 2
}
